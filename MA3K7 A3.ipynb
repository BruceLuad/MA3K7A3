{
 "cells": [
  {
   "cell_type": "code",
   "execution_count": 2,
   "id": "cf865dcc",
   "metadata": {},
   "outputs": [
    {
     "data": {
      "image/png": "[encoded data removed]",
      "text/plain": [
       "<Figure size 432x288 with 1 Axes>"
      ]
     },
     "metadata": {
      "needs_background": "light"
     },
     "output_type": "display_data"
    },
    {
     "name": "stdout",
     "output_type": "stream",
     "text": [
      "mean:  21.5444\n"
     ]
    }
   ],
   "source": [
    "import random \n",
    "import matplotlib.pyplot as plt\n",
    "from collections import Counter\n",
    "\n",
    "run = 0 \n",
    "#empty list to hold all result\n",
    "freq_list = []\n",
    "#number of hats\n",
    "n = 100\n",
    "#number of runs\n",
    "while run < 10000:\n",
    "    num_list = list(range(1, n + 1))\n",
    "    while len(num_list) > 1:\n",
    "        # Randomly get two numbers from the list and ensure they are not the same\n",
    "        num1 = num_list[random.randint(0, len(num_list)-1)]\n",
    "        num_list.remove(num1)\n",
    "        num2 = num_list[random.randint(0, len(num_list)-1)]\n",
    "        num_list.remove(num2)\n",
    "        #get the new number and put it back in the list\n",
    "        new_num = max(num1,num2) - min(num1,num2)\n",
    "        num_list.append(new_num)\n",
    "    #return the final number\n",
    "    last_num = num_list[0]\n",
    "    freq_list.append(last_num)\n",
    "    run += 1\n",
    "    \n",
    "frequency = Counter(freq_list)\n",
    "\n",
    "# Plot the bar chart\n",
    "x = list(frequency.keys())\n",
    "y = list(frequency.values())\n",
    "\n",
    "plt.bar(x, y, color='skyblue')\n",
    "plt.xlabel('Final Number')\n",
    "plt.ylabel('Frequency')\n",
    "plt.title('Frequency Distribution of Final Numbers with 100 Starting Numbers')\n",
    "plt.show()\n",
    "\n",
    "#mean \n",
    "total = 0\n",
    "for num in freq_list:\n",
    "    total += num\n",
    "mean = total / len(freq_list)\n",
    "print(\"mean: \",mean)\n"
   ]
  },
  {
   "cell_type": "code",
   "execution_count": null,
   "id": "b19847bd",
   "metadata": {},
   "outputs": [],
   "source": []
  }
 ],
 "metadata": {
  "kernelspec": {
   "display_name": "Python 3 (ipykernel)",
   "language": "python",
   "name": "python3"
  },
  "language_info": {
   "codemirror_mode": {
    "name": "ipython",
    "version": 3
   },
   "file_extension": ".py",
   "mimetype": "text/x-python",
   "name": "python",
   "nbconvert_exporter": "python",
   "pygments_lexer": "ipython3",
   "version": "3.9.12"
  }
 },
 "nbformat": 4,
 "nbformat_minor": 5
}
